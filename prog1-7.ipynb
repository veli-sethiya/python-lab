{
  "nbformat": 4,
  "nbformat_minor": 0,
  "metadata": {
    "colab": {
      "name": "Untitled0.ipynb",
      "provenance": [],
      "authorship_tag": "ABX9TyNt3+iQcvNePFIswvTR55F/"
    },
    "kernelspec": {
      "name": "python3",
      "display_name": "Python 3"
    },
    "language_info": {
      "name": "python"
    }
  },
  "cells": [
    {
      "cell_type": "code",
      "metadata": {
        "colab": {
          "base_uri": "https://localhost:8080/"
        },
        "id": "7Purkn5Bwgax",
        "outputId": "4fec11d5-7e7a-425a-881d-ec2395e535f2"
      },
      "source": [
        "#1 Display float number with 2 decimal places using print()\n",
        "i = 18.96513\n",
        "print('%.2f'%i)"
      ],
      "execution_count": 2,
      "outputs": [
        {
          "output_type": "stream",
          "name": "stdout",
          "text": [
            "18.97\n"
          ]
        }
      ]
    },
    {
      "cell_type": "code",
      "metadata": {
        "colab": {
          "base_uri": "https://localhost:8080/"
        },
        "id": "aMPsuJJUw3oZ",
        "outputId": "0d9ed001-b624-46ec-9e6f-0a5d4022e06a"
      },
      "source": [
        "#2 Takes two integer numbers and  return their product.\n",
        "x = int(input(\"Enter 1st no. :\"))\n",
        "y = int(input(\"Enter 2nd no. :\"))\n",
        "print(x*y)\n"
      ],
      "execution_count": 3,
      "outputs": [
        {
          "output_type": "stream",
          "name": "stdout",
          "text": [
            "Enter 1st no. :2\n",
            "Enter 2nd no. :5\n",
            "10\n"
          ]
        }
      ]
    },
    {
      "cell_type": "code",
      "metadata": {
        "colab": {
          "base_uri": "https://localhost:8080/"
        },
        "id": "IlhwokYMxBNB",
        "outputId": "501b09a7-13f2-458c-d727-ffc87123a1fc"
      },
      "source": [
        "#3 Write a Python program to get the volume of a sphere with radius 10.\n",
        "pi = 3.1415926535897931\n",
        "r = int(input())\n",
        "v = 4.0/3.0*pi*r**3\n",
        "print('Volume of sphere is: %.4f'%v)"
      ],
      "execution_count": 4,
      "outputs": [
        {
          "output_type": "stream",
          "name": "stdout",
          "text": [
            "10\n",
            "Volume of sphere is: 4188.7902\n"
          ]
        }
      ]
    },
    {
      "cell_type": "code",
      "metadata": {
        "colab": {
          "base_uri": "https://localhost:8080/"
        },
        "id": "B796oT0qxMYf",
        "outputId": "a3cd986a-9240-4088-bd15-97881119da33"
      },
      "source": [
        "#4 Accept two numbers from the user and multiply them together.\n",
        "x,y = map(int, input().split())\n",
        "print(x*y)"
      ],
      "execution_count": 5,
      "outputs": [
        {
          "output_type": "stream",
          "name": "stdout",
          "text": [
            "2 12\n",
            "24\n"
          ]
        }
      ]
    },
    {
      "cell_type": "code",
      "metadata": {
        "colab": {
          "base_uri": "https://localhost:8080/"
        },
        "id": "nNLkuIdrxQR4",
        "outputId": "bb56b656-6a62-40f2-83fd-0f81f764b7f3"
      },
      "source": [
        "#5 Write a Python program that accepts an integer (a) and computes the value of a+aa+aaa.\n",
        "a = input()\n",
        "aa = a+a\n",
        "aaa = a+a+a\n",
        "print(int(a)+int(aa)+int(aaa))"
      ],
      "execution_count": 6,
      "outputs": [
        {
          "output_type": "stream",
          "name": "stdout",
          "text": [
            "5\n",
            "615\n"
          ]
        }
      ]
    },
    {
      "cell_type": "code",
      "metadata": {
        "colab": {
          "base_uri": "https://localhost:8080/"
        },
        "id": "tzW0c7LtxU1u",
        "outputId": "6b446155-f2ed-475e-cec9-99b369fcb250"
      },
      "source": [
        "#6 Write a Python program to calculate the length of a string\n",
        "n = 'Veli'\n",
        "print(len(n))"
      ],
      "execution_count": 8,
      "outputs": [
        {
          "output_type": "stream",
          "name": "stdout",
          "text": [
            "4\n"
          ]
        }
      ]
    },
    {
      "cell_type": "code",
      "metadata": {
        "colab": {
          "base_uri": "https://localhost:8080/"
        },
        "id": "MV11LTaUxXNg",
        "outputId": "f204fd66-a2e0-4fbf-86af-504beaf1e967"
      },
      "source": [
        "#7 Write a Python program to parse a string to Float & Integer\n",
        "x = '1234'\n",
        "print(int(x))\n",
        "print(float(x))"
      ],
      "execution_count": 9,
      "outputs": [
        {
          "output_type": "stream",
          "name": "stdout",
          "text": [
            "1234\n",
            "1234.0\n"
          ]
        }
      ]
    }
  ]
}